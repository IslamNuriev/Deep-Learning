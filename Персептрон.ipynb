{
 "cells": [
  {
   "cell_type": "markdown",
   "id": "7c3b386c",
   "metadata": {},
   "source": [
    "### Полносвязная нейронная сеть прямого распространения"
   ]
  },
  {
   "cell_type": "code",
   "execution_count": 1,
   "id": "12797bae",
   "metadata": {},
   "outputs": [],
   "source": [
    "import numpy as np"
   ]
  },
  {
   "cell_type": "code",
   "execution_count": 2,
   "id": "e52c864f",
   "metadata": {},
   "outputs": [],
   "source": [
    "def act(x):\n",
    "    return 0 if x < 0.5 else 1"
   ]
  },
  {
   "cell_type": "code",
   "execution_count": 7,
   "id": "93ceeac8",
   "metadata": {},
   "outputs": [],
   "source": [
    "def go(house, rock, attr):\n",
    "    x = np.array([house,rock,attr])\n",
    "    w11 = [0.3, 0.3, 0] # веса 1-ого скрытого слоя\n",
    "    w12 = [0.4,-0.5,1] # веса 2-ого скрытого слоя\n",
    "    weight1 = np.array([w11,w12]) # матрица 2*3\n",
    "    weight2 = np.array([-1,1]) # вектор 1*2\n",
    "    \n",
    "    sum_hidden = np.dot(weight1, x) # вычисляем сумму на входах нейронов скрытого слоя\n",
    "    print(\"Значения сумм на нейронах скрытого слоя: \" + str(sum_hidden))\n",
    "    \n",
    "    out_hidden = np.array([act(x) for x in sum_hidden])\n",
    "    sum_end = np.dot(weight2, out_hidden)\n",
    "    y = act(sum_end)\n",
    "    print(\"Выходное значение НС: \" + str(y))\n",
    "    return y  "
   ]
  },
  {
   "cell_type": "code",
   "execution_count": 10,
   "id": "0fd49379",
   "metadata": {},
   "outputs": [],
   "source": [
    "house = 1\n",
    "rock = 0\n",
    "attr = 0"
   ]
  },
  {
   "cell_type": "code",
   "execution_count": 11,
   "id": "e6dde174",
   "metadata": {},
   "outputs": [
    {
     "name": "stdout",
     "output_type": "stream",
     "text": [
      "Значения сумм на нейронах скрытого слоя: [0.3 0.4]\n",
      "Выходное значение НС: 0\n",
      "Созвонимся\n"
     ]
    }
   ],
   "source": [
    "res = go(house, rock, attr)\n",
    "if res == 1:\n",
    "    print(\"Ты мне нравишься\")\n",
    "else:\n",
    "    print(\"Созвонимся\")\n"
   ]
  },
  {
   "cell_type": "markdown",
   "id": "7b5fe3e0",
   "metadata": {},
   "source": [
    "***Возможности персептрона***"
   ]
  },
  {
   "cell_type": "markdown",
   "id": "afbeb47d",
   "metadata": {},
   "source": [
    "Френк Розенблатт, 1957 год"
   ]
  },
  {
   "cell_type": "markdown",
   "id": "7ec5225b",
   "metadata": {},
   "source": [
    "**Решим задачу классификации**"
   ]
  },
  {
   "cell_type": "code",
   "execution_count": 12,
   "id": "310c465e",
   "metadata": {},
   "outputs": [],
   "source": [
    "threshold = 0"
   ]
  },
  {
   "cell_type": "code",
   "execution_count": 13,
   "id": "cd311e8c",
   "metadata": {},
   "outputs": [],
   "source": [
    "from matplotlib import pyplot as plt"
   ]
  },
  {
   "cell_type": "code",
   "execution_count": 39,
   "id": "c7a03b63",
   "metadata": {},
   "outputs": [
    {
     "name": "stdout",
     "output_type": "stream",
     "text": [
      "Класс C2\n",
      "Класс C2\n",
      "Класс C2\n",
      "Класс C2\n",
      "Класс C2\n"
     ]
    },
    {
     "data": {
      "image/png": "[encoded data removed]",
      "text/plain": [
       "<Figure size 432x288 with 1 Axes>"
      ]
     },
     "metadata": {
      "needs_background": "light"
     },
     "output_type": "display_data"
    }
   ],
   "source": [
    "n = 5\n",
    "b = 3\n",
    "x1 = np.random.random(n)\n",
    "x2 = x1 + [np.random.randint(10)/10 for i in range(n)] + b\n",
    "C1 = [x1,x2]\n",
    "\n",
    "x1 = np.random.random(n)\n",
    "x2 = x1 - [np.random.randint(10)/10 for i in range(n)] - 0.1 + b \n",
    "C2 = [x1,x2]\n",
    "\n",
    "f = [0+b,1+b]\n",
    "\n",
    "w2 = 0.5\n",
    "w3 = -b*w2\n",
    "w = np.array([-w2,w2,w3])\n",
    "\n",
    "for i in range(n):\n",
    "    x = np.array([C2[0][i], C2[1][i], 1])\n",
    "    y = np.dot(w, x) # линейная комбинация  y = w1*x1+w2*x2\n",
    "    if y >= 0:\n",
    "        print(\"Класс C1\")\n",
    "    else:\n",
    "        print(\"Класс C2\")\n",
    "plt.scatter(C1[0][:], C1[1][:], s=10,c='red')\n",
    "plt.scatter(C2[0][:], C2[1][:], s=10,c='blue')\n",
    "plt.plot(f)\n",
    "plt.grid(True)\n",
    "plt.xlabel('x')\n",
    "plt.ylabel('y')\n",
    "plt.show()"
   ]
  },
  {
   "cell_type": "markdown",
   "id": "5f452f23",
   "metadata": {},
   "source": [
    "**Задача XOR**"
   ]
  },
  {
   "cell_type": "code",
   "execution_count": 42,
   "id": "7cb1bce5",
   "metadata": {},
   "outputs": [],
   "source": [
    "def act(x):\n",
    "    return 0 if x <= 0 else 1\n",
    "def go(C):\n",
    "    x = np.array([C[0],C[1],1])\n",
    "    w1 = [1,1,-1.5]\n",
    "    w2 = [1,1,-0.5]\n",
    "    w_hidden = np.array([w1,w2])\n",
    "    w_out = np.array([-1,1, -0.5])\n",
    "    sum = np.dot(w_hidden, x)\n",
    "    out = [act(x) for x in sum]\n",
    "    out.append(1)\n",
    "    out = np.array(out)\n",
    "    \n",
    "    sum = np.dot(w_out, out)\n",
    "    y = act(sum)\n",
    "    \n",
    "      \n",
    "    "
   ]
  }
 ],
 "metadata": {
  "kernelspec": {
   "display_name": "Python 3 (ipykernel)",
   "language": "python",
   "name": "python3"
  },
  "language_info": {
   "codemirror_mode": {
    "name": "ipython",
    "version": 3
   },
   "file_extension": ".py",
   "mimetype": "text/x-python",
   "name": "python",
   "nbconvert_exporter": "python",
   "pygments_lexer": "ipython3",
   "version": "3.9.7"
  }
 },
 "nbformat": 4,
 "nbformat_minor": 5
}
