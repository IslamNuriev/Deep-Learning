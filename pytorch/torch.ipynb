{
 "cells": [
  {
   "cell_type": "markdown",
   "id": "72433a27",
   "metadata": {},
   "source": [
    "### Автоматическое дифференцирование"
   ]
  },
  {
   "cell_type": "code",
   "execution_count": 1,
   "id": "aa03654a",
   "metadata": {},
   "outputs": [],
   "source": [
    "import torch"
   ]
  },
  {
   "cell_type": "code",
   "execution_count": 2,
   "id": "a3a33753",
   "metadata": {},
   "outputs": [
    {
     "name": "stdout",
     "output_type": "stream",
     "text": [
      "tensor([-12.]) tensor([2.])\n",
      "tensor([0.]) tensor([-4.])\n",
      "tensor([-12.], grad_fn=<AddBackward0>)\n"
     ]
    }
   ],
   "source": [
    "x = torch.tensor([2.0], requires_grad=True)\n",
    "y = torch.tensor([-4.0], requires_grad=True)\n",
    "f = (x + y)**2 + 2*x*y\n",
    "f.backward()\n",
    "print(x.grad, x.data)\n",
    "print(y.grad, y.data)\n",
    "print(f)"
   ]
  },
  {
   "cell_type": "markdown",
   "id": "b7cb11d3",
   "metadata": {},
   "source": [
    "### Реализация SGD на Pytorch"
   ]
  },
  {
   "cell_type": "markdown",
   "id": "e41150d9",
   "metadata": {},
   "source": [
    "$$w = [w_0,w_1]^T$$\n",
    "$$a(x) = w^T\\cdot x = w_0\\cdot 1 + w_1\\cdot x_1$$\n",
    "$$f(x) = 0.5\\cdot x + 0.2\\cdot sin(2x) - 3$$\n",
    "$$Q(x) = \\sum_{i=1}^{n}(a(x_i) - f(x_i))^2$$"
   ]
  },
  {
   "cell_type": "code",
   "execution_count": 3,
   "id": "fc72ba3f",
   "metadata": {},
   "outputs": [],
   "source": [
    "import torch\n",
    "import torch.optim as optim\n",
    "from random import randint\n",
    "import matplotlib.pyplot as plt"
   ]
  },
  {
   "cell_type": "code",
   "execution_count": 4,
   "id": "986bb5cc",
   "metadata": {},
   "outputs": [
    {
     "name": "stdout",
     "output_type": "stream",
     "text": [
      "tensor([-2.7562,  0.3162], requires_grad=True)\n"
     ]
    },
    {
     "data": {
      "image/png": "[encoded data removed]",
      "text/plain": [
       "<Figure size 640x480 with 1 Axes>"
      ]
     },
     "metadata": {},
     "output_type": "display_data"
    }
   ],
   "source": [
    "def model(X,w):\n",
    "    return X @ w\n",
    "\n",
    "N = 2 # количество весов\n",
    "w = torch.FloatTensor(N).uniform_(-1e-5,1e-5) # формируем случайные значения из равномерного р.\n",
    "w.requires_grad_(True) # чтобы вычислять производные для вектор w\n",
    "x = torch.arange(0, 3, 0.1)\n",
    "\n",
    "y_train = 0.5*x + 0.2*torch.sin(2*x) - 3\n",
    "x_train = torch.tensor([[_x**_n for _n in range(N)] for _x in x])\n",
    "\n",
    "total = len(x)\n",
    "lr = torch.tensor([0.1, 0.01]) # шаги для w_0 и для w_1\n",
    "# loss_func = torch.nn.MSELoss()\n",
    "loss_func = torch.nn.L1Loss()\n",
    "# optimizer = optim.SGD(params=[w], lr=0.01, momentum = 0.8, nesterov=True)\n",
    "optimizer = optim.Adam(params=[w], lr=0.01)\n",
    "\n",
    "for _ in range(1000): # 1k операций\n",
    "    k = randint(0,total-1)\n",
    "    y = model(x_train[k], w)\n",
    "    loss = loss_func(y,y_train[k])\n",
    "\n",
    "    loss.backward()\n",
    "    # w.data = w.data - lr * w.grad\n",
    "    # w.grad.zero_()\n",
    "    optimizer.step()\n",
    "    optimizer.zero_grad()\n",
    "\n",
    "print(w)\n",
    "predict = model(x_train, w)\n",
    "plt.plot(x, y_train.numpy())\n",
    "plt.plot(x, predict.data.numpy())\n",
    "plt.grid()\n",
    "plt.show()"
   ]
  },
  {
   "cell_type": "markdown",
   "id": "4a9916b3",
   "metadata": {},
   "source": [
    "$$w^{n} = w^{n-1} - \\eta \\nabla L(x_k)$$"
   ]
  },
  {
   "cell_type": "markdown",
   "id": "d585cc61",
   "metadata": {},
   "source": [
    "###  Классы nn.Linear и nn.Module"
   ]
  },
  {
   "cell_type": "code",
   "execution_count": 5,
   "id": "e5b2e00c",
   "metadata": {},
   "outputs": [],
   "source": [
    "import torch.nn as nn\n",
    "import torch.nn.functional as F"
   ]
  },
  {
   "cell_type": "code",
   "execution_count": 6,
   "id": "ff31022f",
   "metadata": {},
   "outputs": [],
   "source": [
    "def forward(inp, l1: nn.Linear, l2: nn.Linear):\n",
    "    u1 = l1.forward(inp)\n",
    "    s1 = F.tahn(u1)\n",
    "\n",
    "    u2 = l2.forward(s1)\n",
    "    s2 = F.tahn(u2)\n",
    "    return s2\n",
    "\n",
    "layer1 = nn.Linear(in_features=3, # in_features - кол-во входов без байеса\n",
    "                   out_features=2) # на выходе 2 значения\n",
    "layer2 = nn.Linear(in_features=2, out_features=1)"
   ]
  },
  {
   "cell_type": "code",
   "execution_count": null,
   "id": "deee6939",
   "metadata": {},
   "outputs": [
    {
     "name": "stdout",
     "output_type": "stream",
     "text": [
      "Parameter containing:\n",
      "tensor([[-0.2725,  0.2423,  0.3305],\n",
      "        [ 0.1693, -0.2693, -0.4612]], requires_grad=True)\n",
      "Parameter containing:\n",
      "tensor([0.3773, 0.2203], requires_grad=True)\n"
     ]
    }
   ],
   "source": [
    "print(layer1.weight) # веса инициализируются как [-1/sqrt(n),1/sqrt(n)] \n",
    "print(layer1.bias) # из равномерного распределения"
   ]
  },
  {
   "cell_type": "code",
   "execution_count": null,
   "id": "e2a9b9ef",
   "metadata": {},
   "outputs": [],
   "source": [
    "class NetGirl(nn.Module):\n",
    "    def __init__(self, input_dim, num_hidden, output_dim):\n",
    "        super().__init__()\n",
    "        self.layer1 = nn.Linear(input_dim, num_hidden)\n",
    "        self.layer2 = nn.Linear(num_hidden, output_dim)\n",
    "\n",
    "    def forward(self, x):\n",
    "        x = self.layer1(x)\n",
    "        x = F.tanh(x)\n",
    "        x = self.layer2(x)\n",
    "        x = F.tanh(x)\n",
    "        return x"
   ]
  },
  {
   "cell_type": "code",
   "execution_count": 9,
   "id": "9e36b88b",
   "metadata": {},
   "outputs": [
    {
     "name": "stdout",
     "output_type": "stream",
     "text": [
      "NetGirl(\n",
      "  (layer1): Linear(in_features=3, out_features=2, bias=True)\n",
      "  (layer2): Linear(in_features=2, out_features=1, bias=True)\n",
      ")\n"
     ]
    }
   ],
   "source": [
    "model = NetGirl(3,2,1)\n",
    "print(model)"
   ]
  },
  {
   "cell_type": "code",
   "execution_count": 10,
   "id": "bbabe530",
   "metadata": {},
   "outputs": [
    {
     "name": "stdout",
     "output_type": "stream",
     "text": [
      "[Parameter containing:\n",
      "tensor([[ 0.5038, -0.0337, -0.2202],\n",
      "        [-0.4109,  0.5311,  0.3038]], requires_grad=True), Parameter containing:\n",
      "tensor([-0.1245, -0.4566], requires_grad=True), Parameter containing:\n",
      "tensor([[-0.6180, -0.4921]], requires_grad=True), Parameter containing:\n",
      "tensor([-0.5880], requires_grad=True)]\n"
     ]
    }
   ],
   "source": [
    "gen_p = model.parameters()\n",
    "print(list(gen_p))"
   ]
  },
  {
   "cell_type": "code",
   "execution_count": 11,
   "id": "aebb3ffe",
   "metadata": {},
   "outputs": [],
   "source": [
    "# Обучаем модель\n",
    "optimizer = optim.RMSprop(params=model.parameters(), lr = 0.01)\n",
    "loss_func = torch.nn.MSELoss()"
   ]
  },
  {
   "cell_type": "code",
   "execution_count": 12,
   "id": "2c15a674",
   "metadata": {},
   "outputs": [],
   "source": [
    "x_train  = torch.FloatTensor([(-1,-1,-1), (-1,-1,1), (-1,1,-1), (-1,1,1),\n",
    "                             (1,-1,-1), (1,-1,1), (1,1,-1), (1,1,1) ])\n",
    "y_train = torch.FloatTensor([-1,1,-1,1,-1,1,-1,-1])\n",
    "total = len(y_train)"
   ]
  },
  {
   "cell_type": "code",
   "execution_count": null,
   "id": "8c5e16ec",
   "metadata": {},
   "outputs": [],
   "source": [
    "# переводим сеть в режим обучения\n",
    "model.train() \n",
    "# если в модели есть такие методы как Dropout или BatchNormalization, то сеть по-разному будет работать в режиме обучения и эксплуатации\n",
    "for _ in range(1000):\n",
    "    k = randint(0, total-1)\n",
    "    y = model(x_train[k])\n",
    "    y = y.squeeze()\n",
    "    loss = loss_func(y,y_train[k])\n",
    "\n",
    "    optimizer.zero_grad() # обнуляем все градиенты\n",
    "    loss.backward() # алгоритм обратного распространения ошибки\n",
    "    optimizer.step() # корректировка весов"
   ]
  },
  {
   "cell_type": "code",
   "execution_count": null,
   "id": "80e3804d",
   "metadata": {},
   "outputs": [
    {
     "data": {
      "text/plain": [
       "NetGirl(\n",
       "  (layer1): Linear(in_features=3, out_features=2, bias=True)\n",
       "  (layer2): Linear(in_features=2, out_features=1, bias=True)\n",
       ")"
      ]
     },
     "execution_count": 15,
     "metadata": {},
     "output_type": "execute_result"
    }
   ],
   "source": [
    "model.eval() # возвращаем в режим эксплуатации\n",
    "# model.requires_grad_(False) # отключаем градиенты не через with"
   ]
  },
  {
   "cell_type": "code",
   "execution_count": null,
   "id": "387f5d45",
   "metadata": {},
   "outputs": [
    {
     "name": "stdout",
     "output_type": "stream",
     "text": [
      "Выходное значение НС: tensor([-0.9814]) => -1.0\n",
      "Выходное значение НС: tensor([0.9977]) => 1.0\n",
      "Выходное значение НС: tensor([-0.9996]) => -1.0\n",
      "Выходное значение НС: tensor([0.9783]) => 1.0\n",
      "Выходное значение НС: tensor([-0.9996]) => -1.0\n",
      "Выходное значение НС: tensor([0.9785]) => 1.0\n",
      "Выходное значение НС: tensor([-0.9998]) => -1.0\n",
      "Выходное значение НС: tensor([-0.9710]) => -1.0\n"
     ]
    }
   ],
   "source": [
    "for x, d in zip(x_train, y_train):\n",
    "    with torch.no_grad():\n",
    "        y = model(x)\n",
    "        print(f'Выходное значение НС: {y.data} => {d}')"
   ]
  },
  {
   "cell_type": "markdown",
   "id": "0f868d02",
   "metadata": {},
   "source": [
    "### Dataset и Dataloader"
   ]
  },
  {
   "cell_type": "markdown",
   "id": "d0e59971",
   "metadata": {},
   "source": [
    "- Dataset - универсальное представление обучающих и тестовых данных \n",
    "- Dataloader - универсальный итератор для извлечения данных, например, в процессе обучения или тестирования\n",
    "\n",
    "По возможности выборки должны быть сбалансированными и репрезентативными (применение аугментации в том числе);"
   ]
  },
  {
   "cell_type": "markdown",
   "id": "03296087",
   "metadata": {},
   "source": [
    "***Dataset***"
   ]
  },
  {
   "cell_type": "code",
   "execution_count": 115,
   "id": "82ef43db",
   "metadata": {},
   "outputs": [],
   "source": [
    "import torch.utils.data as data\n",
    "import torch.nn as nn\n",
    "import torch.optim as optim\n",
    "import torchvision.transforms.v2 as tfs\n",
    "from tqdm import tqdm \n",
    "import json\n",
    "import os\n",
    "\n",
    "class MyDataset(data.Dataset): # имя класса MyDataset может быть любым\n",
    "    def __init__(self): # инициализация переменных объекта класса\n",
    "        pass\n",
    "\n",
    "    def __getitem__(self, item): # возвращение образа выборки по индексу item\n",
    "        pass\n",
    "    \n",
    "    def __len(self): # возвращение размера выборки\n",
    "        pass"
   ]
  },
  {
   "cell_type": "code",
   "execution_count": 54,
   "id": "1e51f1cc",
   "metadata": {},
   "outputs": [
    {
     "data": {
      "text/plain": [
       "dict_items([('class_0', 0), ('class_1', 1), ('class_2', 2), ('class_3', 3), ('class_4', 4), ('class_5', 5), ('class_6', 6), ('class_7', 7), ('class_8', 8), ('class_9', 9)])"
      ]
     },
     "execution_count": 54,
     "metadata": {},
     "output_type": "execute_result"
    }
   ],
   "source": [
    "fotmas = {\"class_0\": 0, \"class_1\": 1, \"class_2\": 2, \"class_3\": 3, \"class_4\": 4, \"class_5\": 5, \"class_6\": 6, \"class_7\": 7, \"class_8\": 8, \"class_9\": 9}\n",
    "fotmas.items()"
   ]
  },
  {
   "cell_type": "code",
   "execution_count": 64,
   "id": "72f3745e",
   "metadata": {},
   "outputs": [],
   "source": [
    "from PIL import Image\n",
    "class DigitDataset(data.Dataset):\n",
    "    def __init__(self, path, train=True, transform=None):\n",
    "        self.path = os.path.join(path,\"train\" if train else \"test\")\n",
    "        self.transform = transform\n",
    "\n",
    "        with open(os.path.join(path, \"format.json\"), \"r\") as fp:\n",
    "            self.format = json.load(fp)\n",
    "        \n",
    "        self.length = 0 # размер обучающей выборки\n",
    "        self.files = [] # список файлов в зависимости от train=True\n",
    "        self.targets = torch.eye(10) # единичная матрицы\n",
    "\n",
    "        for _dir, _target in self.format.items():\n",
    "            path = os.path.join(self.path, _dir)\n",
    "            list_files = os.listdir(path)\n",
    "            self.length += len(list_files)\n",
    "            self.files.extend(map(lambda _x: (os.path.join(path, _x), _target), list_files))\n",
    "    \n",
    "    def __getitem__(self, item): # возвращает 1 образ из обучающей выборки\n",
    "        path_file, target = self.files[item]\n",
    "        t = self.targets[target]\n",
    "        img = Image.open(path_file)\n",
    "\n",
    "        if self.transform:\n",
    "            img = self.transform(img).ravel().float() / 255.\n",
    "            \n",
    "        return img, t\n",
    "    \n",
    "    def __len__(self):\n",
    "        return self.length "
   ]
  },
  {
   "cell_type": "code",
   "execution_count": 65,
   "id": "e609e24b",
   "metadata": {},
   "outputs": [],
   "source": [
    "to_tensor = tfs.ToImage()\n",
    "d_train = DigitDataset(\"dataset\", transform=to_tensor)\n",
    "train_data = data.DataLoader(d_train, batch_size=32, shuffle=True)"
   ]
  },
  {
   "cell_type": "markdown",
   "id": "8a0d02f1",
   "metadata": {},
   "source": [
    "## Классификация изображений цифр БД MNIST"
   ]
  },
  {
   "cell_type": "markdown",
   "id": "25f57fdf",
   "metadata": {},
   "source": [
    "- Для распознавания графических образов хорошо себя зарекомендовали сверточные нейронные сети, однако их будем рассматривать позже"
   ]
  },
  {
   "cell_type": "code",
   "execution_count": 105,
   "id": "999d82b5",
   "metadata": {},
   "outputs": [],
   "source": [
    "class DigitNN(nn.Module):\n",
    "    def __init__(self, input_dim, num_hidden, output_dim):\n",
    "        super().__init__()\n",
    "        self.layer1 = nn.Linear(input_dim, num_hidden)\n",
    "        self.layer2 = nn.Linear(num_hidden, output_dim)\n",
    "\n",
    "    def forward(self, x):\n",
    "        x = self.layer1(x)\n",
    "        x = nn.functional.relu(x)\n",
    "        x = self.layer2(x)\n",
    "        return x"
   ]
  },
  {
   "cell_type": "code",
   "execution_count": 106,
   "id": "da3dddc0",
   "metadata": {},
   "outputs": [],
   "source": [
    "model = DigitNN(28 * 28, 32, 10)"
   ]
  },
  {
   "cell_type": "code",
   "execution_count": 107,
   "id": "ab4df3e3",
   "metadata": {},
   "outputs": [
    {
     "name": "stdout",
     "output_type": "stream",
     "text": [
      "60000\n"
     ]
    }
   ],
   "source": [
    "to_tensor = tfs.ToImage()\n",
    "d_train = DigitDataset(\"dataset\", transform=to_tensor)\n",
    "train_data = data.DataLoader(d_train, batch_size=32, shuffle=True)\n",
    "print(len(d_train))"
   ]
  },
  {
   "cell_type": "code",
   "execution_count": 108,
   "id": "f3670feb",
   "metadata": {},
   "outputs": [],
   "source": [
    "optimizer = optim.Adam(params=model.parameters(), lr=0.01)\n",
    "loss_function = nn.CrossEntropyLoss()"
   ]
  },
  {
   "cell_type": "code",
   "execution_count": 109,
   "id": "b7e08649",
   "metadata": {},
   "outputs": [
    {
     "data": {
      "text/plain": [
       "DigitNN(\n",
       "  (layer1): Linear(in_features=784, out_features=32, bias=True)\n",
       "  (layer2): Linear(in_features=32, out_features=10, bias=True)\n",
       ")"
      ]
     },
     "execution_count": 109,
     "metadata": {},
     "output_type": "execute_result"
    }
   ],
   "source": [
    "epochs = 2\n",
    "model.train()"
   ]
  },
  {
   "cell_type": "code",
   "execution_count": 116,
   "id": "be4124ad",
   "metadata": {},
   "outputs": [
    {
     "name": "stderr",
     "output_type": "stream",
     "text": [
      "Epochs 1, loss mean = 0.161: 100%|██████████| 1875/1875 [00:14<00:00, 129.03it/s]\n",
      "Epochs 2, loss mean = 0.149: 100%|██████████| 1875/1875 [00:13<00:00, 134.48it/s]\n"
     ]
    }
   ],
   "source": [
    "for _e in range(epochs):\n",
    "    loss_mean = 0 # среднее значение функции потерь (по эпохе)\n",
    "    lm_count = 0 # текущее количество слагаемых \n",
    "    \n",
    "    train_tqdm = tqdm(train_data, leave=True) # leave=True - оставляет предыдущий прогрессбар на экране\n",
    "    for x_train, y_train in train_tqdm:\n",
    "        predict = model(x_train)    \n",
    "        loss = loss_function(predict, y_train)\n",
    "\n",
    "        optimizer.zero_grad()\n",
    "        loss.backward()\n",
    "        optimizer.step()\n",
    "\n",
    "        lm_count += 1\n",
    "        loss_mean = 1 / lm_count * loss.item() + (1- 1/lm_count)*loss_mean\n",
    "        train_tqdm.set_description(f'Epochs {_e+1}, loss mean = {loss_mean:.3f}')"
   ]
  },
  {
   "cell_type": "code",
   "execution_count": 80,
   "id": "88777502",
   "metadata": {},
   "outputs": [
    {
     "data": {
      "text/plain": [
       "DigitNN(\n",
       "  (layer1): Linear(in_features=784, out_features=32, bias=True)\n",
       "  (layer2): Linear(in_features=32, out_features=10, bias=True)\n",
       ")"
      ]
     },
     "execution_count": 80,
     "metadata": {},
     "output_type": "execute_result"
    }
   ],
   "source": [
    "# Тестирование обученной НС\n",
    "model.eval()"
   ]
  },
  {
   "cell_type": "code",
   "execution_count": 96,
   "id": "9b3e1dee",
   "metadata": {},
   "outputs": [],
   "source": [
    "d_test = DigitDataset(\"dataset\", train=False, transform=to_tensor)\n",
    "test_data = data.DataLoader(d_test, batch_size=500, shuffle=False)\n",
    "Q = 0\n",
    "for x_test, y_test in test_data:\n",
    "    with torch.no_grad():\n",
    "        p = model(x_test)\n",
    "        p = torch.argmax(p, dim=1)\n",
    "        y = torch.argmax(y_test, dim=1)\n",
    "        Q += torch.sum(p == y).item()"
   ]
  },
  {
   "cell_type": "code",
   "execution_count": 99,
   "id": "d08d280f",
   "metadata": {},
   "outputs": [
    {
     "name": "stdout",
     "output_type": "stream",
     "text": [
      "0.9432\n"
     ]
    }
   ],
   "source": [
    "Q /= len(d_test)\n",
    "print(Q)"
   ]
  },
  {
   "cell_type": "markdown",
   "id": "bd347310",
   "metadata": {},
   "source": [
    "## Класс ImageFolder"
   ]
  },
  {
   "cell_type": "code",
   "execution_count": 117,
   "id": "fff9c39c",
   "metadata": {},
   "outputs": [],
   "source": [
    "from torchvision.datasets import ImageFolder"
   ]
  },
  {
   "cell_type": "code",
   "execution_count": 118,
   "id": "81ce8bf6",
   "metadata": {},
   "outputs": [],
   "source": [
    "to_tensor = tfs.ToImage() # PIL to Tensor\n",
    "d_train = ImageFolder(\"dataset/train\", transform=to_tensor)\n",
    "train_data = data.DataLoader(d_train, batch_size=32, shuffle=True)"
   ]
  },
  {
   "cell_type": "code",
   "execution_count": 119,
   "id": "ea8da378",
   "metadata": {},
   "outputs": [],
   "source": [
    "x,y = d_train[0]"
   ]
  },
  {
   "cell_type": "code",
   "execution_count": null,
   "id": "2305a7db",
   "metadata": {},
   "outputs": [
    {
     "data": {
      "text/plain": [
       "torch.Size([3, 28, 28])"
      ]
     },
     "execution_count": 120,
     "metadata": {},
     "output_type": "execute_result"
    }
   ],
   "source": [
    "x.size() # тут используются 3 цвета канала RGB\n",
    "# исходное изображение имеет 1 канал и представлена в градции серого\n",
    "# но нам это не нужно"
   ]
  },
  {
   "cell_type": "code",
   "execution_count": 131,
   "id": "09a57b9e",
   "metadata": {},
   "outputs": [],
   "source": [
    "transforms = tfs.Compose([tfs.ToImage(), tfs.Grayscale(),\n",
    "                          tfs.ToDtype(torch.float32, scale=True),\n",
    "                          tfs.Lambda(lambda _img: _img.ravel())]) # PIL to Tensor and RGB to Gray\n",
    "d_train = ImageFolder(\"dataset/train\", transform=transforms)\n",
    "train_data = data.DataLoader(d_train, batch_size=32, shuffle=True)"
   ]
  },
  {
   "cell_type": "markdown",
   "id": "678cfc61",
   "metadata": {},
   "source": [
    "**Train model**"
   ]
  },
  {
   "cell_type": "code",
   "execution_count": 140,
   "id": "93a49990",
   "metadata": {},
   "outputs": [
    {
     "data": {
      "text/plain": [
       "DigitNN(\n",
       "  (layer1): Linear(in_features=784, out_features=32, bias=True)\n",
       "  (layer2): Linear(in_features=32, out_features=10, bias=True)\n",
       ")"
      ]
     },
     "execution_count": 140,
     "metadata": {},
     "output_type": "execute_result"
    }
   ],
   "source": [
    "epochs = 2\n",
    "model.train()"
   ]
  },
  {
   "cell_type": "code",
   "execution_count": 141,
   "id": "9f94b78e",
   "metadata": {},
   "outputs": [
    {
     "name": "stderr",
     "output_type": "stream",
     "text": [
      "Epochs 1, loss mean = 0.136: 100%|██████████| 1875/1875 [00:17<00:00, 108.19it/s]\n",
      "Epochs 2, loss mean = 0.134: 100%|██████████| 1875/1875 [00:16<00:00, 113.85it/s]\n"
     ]
    }
   ],
   "source": [
    "for _e in range(epochs):\n",
    "    loss_mean = 0 # среднее значение функции потерь (по эпохе)\n",
    "    lm_count = 0 # текущее количество слагаемых \n",
    "    \n",
    "    train_tqdm = tqdm(train_data, leave=True) # leave=True - оставляет предыдущий прогрессбар на экране\n",
    "    for x_train, y_train in train_tqdm:\n",
    "        predict = model(x_train)    \n",
    "        loss = loss_function(predict, y_train)\n",
    "\n",
    "        optimizer.zero_grad()\n",
    "        loss.backward()\n",
    "        optimizer.step()\n",
    "\n",
    "        lm_count += 1\n",
    "        loss_mean = 1 / lm_count * loss.item() + (1- 1/lm_count)*loss_mean\n",
    "        train_tqdm.set_description(f'Epochs {_e+1}, loss mean = {loss_mean:.3f}')"
   ]
  },
  {
   "cell_type": "markdown",
   "id": "27edd5b5",
   "metadata": {},
   "source": [
    "**Test model**"
   ]
  },
  {
   "cell_type": "markdown",
   "id": "d7c110e3",
   "metadata": {},
   "source": [
    "Tестирование обученной НС"
   ]
  },
  {
   "cell_type": "code",
   "execution_count": 142,
   "id": "0b89ad51",
   "metadata": {},
   "outputs": [
    {
     "data": {
      "text/plain": [
       "DigitNN(\n",
       "  (layer1): Linear(in_features=784, out_features=32, bias=True)\n",
       "  (layer2): Linear(in_features=32, out_features=10, bias=True)\n",
       ")"
      ]
     },
     "execution_count": 142,
     "metadata": {},
     "output_type": "execute_result"
    }
   ],
   "source": [
    "model.eval()"
   ]
  },
  {
   "cell_type": "code",
   "execution_count": 145,
   "id": "273ac636",
   "metadata": {},
   "outputs": [],
   "source": [
    "d_test = ImageFolder(\"dataset/test\", transform=transforms)\n",
    "test_data = data.DataLoader(d_test, batch_size=500, shuffle=False)\n",
    "Q = 0\n",
    "for x_test, y_test in test_data:\n",
    "    with torch.no_grad():\n",
    "        p = model(x_test)\n",
    "        p = torch.argmax(p, dim=1)\n",
    "        Q += torch.sum(p == y).item()"
   ]
  },
  {
   "cell_type": "markdown",
   "id": "3251dc4b",
   "metadata": {},
   "source": [
    "## Сохранение и загрузка моделей. Функции torch.save() и torch.load()"
   ]
  },
  {
   "cell_type": "code",
   "execution_count": null,
   "id": "ea8222d7",
   "metadata": {},
   "outputs": [],
   "source": [
    "model = DigitNN(28*28, 32, 10)\n",
    "st = model.state_dict() # словарь состояний"
   ]
  },
  {
   "cell_type": "code",
   "execution_count": 148,
   "id": "c11b5b60",
   "metadata": {},
   "outputs": [],
   "source": [
    "torch.save(st,'torch_models/model_dnn.tar')"
   ]
  },
  {
   "cell_type": "code",
   "execution_count": 151,
   "id": "0426d3a4",
   "metadata": {},
   "outputs": [],
   "source": [
    "# weights_only означает, что выполняется загрузка приметивных типов данных\n",
    "state_dict = torch.load('torch_models/model_dnn.tar', weights_only=True)"
   ]
  },
  {
   "cell_type": "code",
   "execution_count": 152,
   "id": "0e770764",
   "metadata": {},
   "outputs": [
    {
     "data": {
      "text/plain": [
       "<All keys matched successfully>"
      ]
     },
     "execution_count": 152,
     "metadata": {},
     "output_type": "execute_result"
    }
   ],
   "source": [
    "model.load_state_dict(state_dict)"
   ]
  },
  {
   "cell_type": "code",
   "execution_count": 160,
   "id": "2878ca8f",
   "metadata": {},
   "outputs": [
    {
     "name": "stderr",
     "output_type": "stream",
     "text": [
      "Epochs 1, loss mean = 2.317: 100%|██████████| 1875/1875 [00:16<00:00, 113.18it/s]\n",
      "Epochs 2, loss mean = 2.317: 100%|██████████| 1875/1875 [00:15<00:00, 117.39it/s]\n"
     ]
    }
   ],
   "source": [
    "best_loss = 1e10 # заведомо высокое значение\n",
    "\n",
    "for _e in range(epochs):\n",
    "    loss_mean = 0 # среднее значение функции потерь (по эпохе)\n",
    "    lm_count = 0 # текущее количество слагаемых \n",
    "    \n",
    "    train_tqdm = tqdm(train_data, leave=True) # leave=True - оставляет предыдущий прогрессбар на экране\n",
    "    for x_train, y_train in train_tqdm:\n",
    "        predict = model(x_train)    \n",
    "        loss = loss_function(predict, y_train)\n",
    "\n",
    "        optimizer.zero_grad()\n",
    "        loss.backward()\n",
    "        optimizer.step()\n",
    "\n",
    "        lm_count += 1\n",
    "        loss_mean = 1 / lm_count * loss.item() + (1- 1/lm_count)*loss_mean\n",
    "        train_tqdm.set_description(f'Epochs {_e+1}, loss mean = {loss_mean:.3f}')\n",
    "\n",
    "    if best_loss > loss_mean * 1.1:\n",
    "        best_loss = loss_mean\n",
    "        st = model.state_dict()\n",
    "        torch.save(st,f\"torch_models/model_dnn_{_e}.tar\")"
   ]
  },
  {
   "cell_type": "code",
   "execution_count": 165,
   "id": "ff0da096",
   "metadata": {},
   "outputs": [
    {
     "data": {
      "text/plain": [
       "<All keys matched successfully>"
      ]
     },
     "execution_count": 165,
     "metadata": {},
     "output_type": "execute_result"
    }
   ],
   "source": [
    "st = torch.load(\"torch_models/model_dnn_1.tar\", weights_only=True)\n",
    "model.load_state_dict(st)"
   ]
  },
  {
   "cell_type": "markdown",
   "id": "37dc9b83",
   "metadata": {},
   "source": [
    "Можно сохранять не только состояние модели, но и состояние оптимизатора и трансформаций"
   ]
  },
  {
   "cell_type": "code",
   "execution_count": 166,
   "id": "0f7d663f",
   "metadata": {},
   "outputs": [],
   "source": [
    "model_state_dict = {\n",
    "    'tfs' : transforms.state_dict(),\n",
    "    'opt' : optimizer.state_dict(),\n",
    "    'model' : model.state_dict(),\n",
    "}"
   ]
  },
  {
   "cell_type": "code",
   "execution_count": 167,
   "id": "9bbb14f9",
   "metadata": {},
   "outputs": [
    {
     "name": "stderr",
     "output_type": "stream",
     "text": [
      "Epochs 1, loss mean = 2.317: 100%|██████████| 1875/1875 [00:17<00:00, 109.55it/s]\n",
      "Epochs 2, loss mean = 2.317: 100%|██████████| 1875/1875 [00:15<00:00, 118.31it/s]\n"
     ]
    }
   ],
   "source": [
    "best_loss = 1e10 # заведомо высокое значение\n",
    "\n",
    "for _e in range(epochs):\n",
    "    loss_mean = 0 # среднее значение функции потерь (по эпохе)\n",
    "    lm_count = 0 # текущее количество слагаемых \n",
    "    \n",
    "    train_tqdm = tqdm(train_data, leave=True) # leave=True - оставляет предыдущий прогрессбар на экране\n",
    "    for x_train, y_train in train_tqdm:\n",
    "        predict = model(x_train)    \n",
    "        loss = loss_function(predict, y_train)\n",
    "\n",
    "        optimizer.zero_grad()\n",
    "        loss.backward()\n",
    "        optimizer.step()\n",
    "\n",
    "        lm_count += 1\n",
    "        loss_mean = 1 / lm_count * loss.item() + (1- 1/lm_count)*loss_mean\n",
    "        train_tqdm.set_description(f'Epochs {_e+1}, loss mean = {loss_mean:.3f}')\n",
    "\n",
    "    if best_loss > loss_mean * 1.1:\n",
    "        best_loss = loss_mean\n",
    "        model_state_dict['model'] = model.state_dict()\n",
    "        torch.save(model_state_dict,f\"torch_models/model_dnn_new_{_e}.tar\")"
   ]
  },
  {
   "cell_type": "markdown",
   "id": "51731f63",
   "metadata": {},
   "source": [
    "## Переобучение (Overfitting)"
   ]
  },
  {
   "cell_type": "code",
   "execution_count": 195,
   "id": "10c2ab07",
   "metadata": {},
   "outputs": [],
   "source": [
    "import torchvision\n",
    "dataset_mnist = torchvision.datasets.MNIST(r'C:\\datasets\\mnist', download=True, train=True,transform=transforms)\n",
    "d_train, d_val = data.random_split(dataset_mnist, [0.7, 0.3])\n",
    "train_data = data.DataLoader(d_train, batch_size=32, shuffle=True)\n",
    "train_data_val = data.DataLoader(d_val, batch_size=32,shuffle=False)"
   ]
  },
  {
   "cell_type": "code",
   "execution_count": 196,
   "id": "948c9fde",
   "metadata": {},
   "outputs": [],
   "source": [
    "optimizer = optim.Adam(params=model.parameters(), lr=0.01)\n",
    "loss_function = nn.CrossEntropyLoss()\n",
    "epochs = 20"
   ]
  },
  {
   "cell_type": "code",
   "execution_count": 197,
   "id": "5be8fee9",
   "metadata": {},
   "outputs": [
    {
     "name": "stderr",
     "output_type": "stream",
     "text": [
      "                                                                                  \r"
     ]
    }
   ],
   "source": [
    "epochs = 20\n",
    "best_loss = 1e10 # заведомо высокое значение\n",
    "\n",
    "loss_lst_val = [] # список значений потерь при валидации\n",
    "loss_lst = [] # список значений потерь при обучении\n",
    "\n",
    "for _e in range(epochs):\n",
    "    model.train() # в начале каждой эпохи переводим модель в режим обучения\n",
    "    loss_mean = 0 # среднее значение функции потерь (по эпохе)\n",
    "    lm_count = 0 # текущее количество слагаемых \n",
    "    \n",
    "    train_tqdm = tqdm(train_data, leave=False) # leave=True - оставляет предыдущий прогрессбар на экране\n",
    "    for x_train, y_train in train_tqdm:\n",
    "        predict = model(x_train)    \n",
    "        loss = loss_function(predict, y_train)\n",
    "\n",
    "        optimizer.zero_grad()\n",
    "        loss.backward()\n",
    "        optimizer.step()\n",
    "\n",
    "        lm_count += 1\n",
    "        loss_mean = 1 / lm_count * loss.item() + (1- 1/lm_count)*loss_mean\n",
    "        train_tqdm.set_description(f'Epochs {_e+1}, loss mean = {loss_mean:.3f}')\n",
    "    \n",
    "    # Валидация модели\n",
    "    model.eval()\n",
    "    Q_val = 0\n",
    "    count_val = 0\n",
    "\n",
    "    for x_val, y_val in train_data_val:\n",
    "        with torch.no_grad():\n",
    "            p = model(x_val)\n",
    "            loss = loss_function(p, y_val)\n",
    "            Q_val += loss.item( )\n",
    "            count_val += 1\n",
    "    Q_val /= count_val\n",
    "\n",
    "    loss_lst.append(loss_mean)\n",
    "    loss_lst_val.append(Q_val)\n",
    "\n",
    "    # print(f\" | loss_mean = {loss_mean: .3f}, Q_val={Q_val:.3f}\")"
   ]
  },
  {
   "cell_type": "code",
   "execution_count": 198,
   "id": "7de1e9a9",
   "metadata": {},
   "outputs": [
    {
     "name": "stdout",
     "output_type": "stream",
     "text": [
      "0.9482\n"
     ]
    }
   ],
   "source": [
    "d_test = ImageFolder(\"dataset/test\", transform=transforms)\n",
    "test_data = data.DataLoader(d_test, batch_size=500, shuffle=False)\n",
    "# тестирование обученной НС\n",
    "model.eval()\n",
    "Q = 0\n",
    "\n",
    "for x_test, y_test in test_data:\n",
    "    with torch.no_grad():\n",
    "        p = model(x_test)\n",
    "        p = torch.argmax(p, dim=1)\n",
    "        Q += torch.sum(p == y_test).item()\n",
    "\n",
    "Q /= len(d_test)\n",
    "print(Q)"
   ]
  },
  {
   "cell_type": "code",
   "execution_count": 199,
   "id": "b2d8c9d8",
   "metadata": {},
   "outputs": [
    {
     "data": {
      "image/png": "[encoded data removed]",
      "text/plain": [
       "<Figure size 640x480 with 1 Axes>"
      ]
     },
     "metadata": {},
     "output_type": "display_data"
    }
   ],
   "source": [
    "import matplotlib.pyplot as plt\n",
    "# Вывод графиков\n",
    "plt.plot(loss_lst)\n",
    "plt.plot(loss_lst_val)\n",
    "plt.grid()\n",
    "plt.show()"
   ]
  },
  {
   "cell_type": "markdown",
   "id": "44a5b90e",
   "metadata": {},
   "source": [
    "##  L2-регуляризатор"
   ]
  },
  {
   "cell_type": "markdown",
   "id": "9a0f7fb1",
   "metadata": {},
   "source": [
    "l1-регуляризация не используется, потому что она склонна к занулению весов в нейронной сети, что может негативно сказаться на ее работе"
   ]
  },
  {
   "cell_type": "code",
   "execution_count": 200,
   "id": "69b3a644",
   "metadata": {},
   "outputs": [],
   "source": [
    "optimizer = optim.Adam(params=model.parameters(), lr=0.01, weight_decay = 0.001)\n",
    "loss_function = nn.CrossEntropyLoss()\n",
    "epochs = 20"
   ]
  },
  {
   "cell_type": "code",
   "execution_count": 201,
   "id": "3677ec90",
   "metadata": {},
   "outputs": [
    {
     "name": "stderr",
     "output_type": "stream",
     "text": [
      "                                                                                  \r"
     ]
    }
   ],
   "source": [
    "epochs = 20\n",
    "best_loss = 1e10 # заведомо высокое значение\n",
    "\n",
    "loss_lst_val = [] # список значений потерь при валидации\n",
    "loss_lst = [] # список значений потерь при обучении\n",
    "\n",
    "for _e in range(epochs):\n",
    "    model.train() # в начале каждой эпохи переводим модель в режим обучения\n",
    "    loss_mean = 0 # среднее значение функции потерь (по эпохе)\n",
    "    lm_count = 0 # текущее количество слагаемых \n",
    "    \n",
    "    train_tqdm = tqdm(train_data, leave=False) # leave=True - оставляет предыдущий прогрессбар на экране\n",
    "    for x_train, y_train in train_tqdm:\n",
    "        predict = model(x_train)    \n",
    "        loss = loss_function(predict, y_train)\n",
    "\n",
    "        optimizer.zero_grad()\n",
    "        loss.backward()\n",
    "        optimizer.step()\n",
    "\n",
    "        lm_count += 1\n",
    "        loss_mean = 1 / lm_count * loss.item() + (1- 1/lm_count)*loss_mean\n",
    "        train_tqdm.set_description(f'Epochs {_e+1}, loss mean = {loss_mean:.3f}')\n",
    "    \n",
    "    # Валидация модели\n",
    "    model.eval()\n",
    "    Q_val = 0\n",
    "    count_val = 0\n",
    "\n",
    "    for x_val, y_val in train_data_val:\n",
    "        with torch.no_grad():\n",
    "            p = model(x_val)\n",
    "            loss = loss_function(p, y_val)\n",
    "            Q_val += loss.item( )\n",
    "            count_val += 1\n",
    "    Q_val /= count_val\n",
    "\n",
    "    loss_lst.append(loss_mean)\n",
    "    loss_lst_val.append(Q_val)\n",
    "\n",
    "    # print(f\" | loss_mean = {loss_mean: .3f}, Q_val={Q_val:.3f}\")"
   ]
  },
  {
   "cell_type": "code",
   "execution_count": 202,
   "id": "5531f591",
   "metadata": {},
   "outputs": [
    {
     "name": "stdout",
     "output_type": "stream",
     "text": [
      "0.9261\n"
     ]
    }
   ],
   "source": [
    "model.eval()\n",
    "Q = 0\n",
    "\n",
    "for x_test, y_test in test_data:\n",
    "    with torch.no_grad():\n",
    "        p = model(x_test)\n",
    "        p = torch.argmax(p, dim=1)\n",
    "        Q += torch.sum(p == y_test).item()\n",
    "\n",
    "Q /= len(d_test)\n",
    "print(Q)"
   ]
  },
  {
   "cell_type": "code",
   "execution_count": 205,
   "id": "2bcda6b6",
   "metadata": {},
   "outputs": [
    {
     "data": {
      "image/png": "[encoded data removed]",
      "text/plain": [
       "<Figure size 640x480 with 1 Axes>"
      ]
     },
     "metadata": {},
     "output_type": "display_data"
    }
   ],
   "source": [
    "# Вывод графиков\n",
    "plt.plot(loss_lst)\n",
    "plt.plot(loss_lst_val)\n",
    "plt.grid()\n",
    "plt.legend(['train','val'])\n",
    "plt.show()"
   ]
  },
  {
   "cell_type": "markdown",
   "id": "f3fdfe23",
   "metadata": {},
   "source": [
    "## Dropout"
   ]
  },
  {
   "cell_type": "markdown",
   "id": "ccb448ef",
   "metadata": {},
   "source": [
    "- Корень проблемы переобучения кроется в излишней специализации каждого нейрона. \n",
    "- Цель dropout - сделать из нейронов специалистов более широкого профиля\n",
    "- На каждой итерации изменения весовых коэффициентов часть нейронов с заданной вероятностью p мы выключаем.\n",
    "- Важно использовать model.train() и model.evaluate()"
   ]
  },
  {
   "cell_type": "markdown",
   "id": "e28bef57",
   "metadata": {},
   "source": [
    "Когда в процессе обучения нейроны отключаются, сумма на входах будет другой, а когда будем эту нейросеть использовать в продакшине, все нейроны, предполагается, будут включены. То есть происходит искажение входного сигнала\n",
    "$$z = w_1\\cdot u_1 + w_2\\cdot u_2 + w_3\\cdot u_3 + w_4\\cdot u_4 + w_5\\cdot u_5$$\n",
    "$$z_q = w_3\\cdot u_3 + w_4\\cdot u_4 + w_5\\cdot u_5$$\n",
    "\n",
    "Поэтому сигнал $z_q$, который соответствует части отброшенных нейронов нужно скорректировать так, чтобы он в среднем по величине был эквивалентен $z$, когда все нейроны включены.\n",
    "\n",
    "$z_q < z$, n - число нейронов\n",
    "\n",
    "Среднее число выключенныхх нейронов можно определить как математическое ожидание:\n",
    "\n",
    "$E(X) = \\sum_{i=1}^n x_i\\cdot p_i$\n",
    "\n",
    "$p_i = p$ - вероятность выключения нейрона (она у всех одна), а $x_i=1$ всегда\n",
    "\n",
    "$E(X) = \\sum_{i=1}^n p = np$\n",
    "\n",
    "Тогда среднее число включенных нейронов:\n",
    "\n",
    "$n-np = n(1-p) = nq$, $q$ - вероятность того, что нейрон включен (обратная величина)\n",
    "\n",
    "$\\frac{z_q}{z} \\sim \\frac{nq}{n}=q$\n",
    "\n",
    "Тогда, чтобы масштаб $z_q$ был сопоставим в среднем с $z$, мы должны $z_q \\cdot \\frac{1}{q}$\n"
   ]
  },
  {
   "cell_type": "markdown",
   "id": "c31c1d90",
   "metadata": {},
   "source": [
    "Параметр $p$ подбирается из опыта исследователя и здравого смысла. Можно начинать с p=0.5"
   ]
  },
  {
   "cell_type": "markdown",
   "id": "d38830d5",
   "metadata": {},
   "source": [
    "- nn.Dropout() - для полносвязных слоев (nn.Linear);\n",
    "- nn.Dropout1d() - для одномерных сверточных нейронных слоев (nn.Conv1d)\n",
    "- nn.Dropout1d() - для двумерных сверточных нейронных слоев (nn.Conv2d)"
   ]
  },
  {
   "cell_type": "code",
   "execution_count": 207,
   "id": "6c9ec29b",
   "metadata": {},
   "outputs": [],
   "source": [
    "class DigitNN(nn.Module):\n",
    "    def __init__(self, input_dim, num_hidden, output_dim):\n",
    "        super().__init__()\n",
    "        self.layer1 = nn.Linear(input_dim, num_hidden)\n",
    "        self.layer2 = nn.Linear(num_hidden, output_dim)\n",
    "        self.dropout_1 = nn.Dropout(0.3) # 0.3 - вероятность отключения нейрона\n",
    "\n",
    "    def forward(self, x):\n",
    "        x = self.layer1(x)\n",
    "        x = nn.functional.relu(x)\n",
    "        x = self.dropout_1(x) # обычно после ф-ии активации прописывается dropout\n",
    "        x = self.layer2(x)\n",
    "        return x"
   ]
  },
  {
   "cell_type": "code",
   "execution_count": 208,
   "id": "f24fc97e",
   "metadata": {},
   "outputs": [],
   "source": [
    "model = DigitNN(28 * 28, 128, 10)"
   ]
  },
  {
   "cell_type": "code",
   "execution_count": 209,
   "id": "0a13f623",
   "metadata": {},
   "outputs": [],
   "source": [
    "optimizer = optim.Adam(params=model.parameters(), lr=0.01) #  weight_decay = 0.001\n",
    "loss_function = nn.CrossEntropyLoss()\n",
    "epochs = 20"
   ]
  },
  {
   "cell_type": "code",
   "execution_count": 210,
   "id": "8b890f01",
   "metadata": {},
   "outputs": [
    {
     "name": "stderr",
     "output_type": "stream",
     "text": [
      "                                                                                  \r"
     ]
    }
   ],
   "source": [
    "epochs = 20\n",
    "best_loss = 1e10 # заведомо высокое значение\n",
    "\n",
    "loss_lst_val = [] # список значений потерь при валидации\n",
    "loss_lst = [] # список значений потерь при обучении\n",
    "\n",
    "for _e in range(epochs):\n",
    "    model.train() # в начале каждой эпохи переводим модель в режим обучения\n",
    "    loss_mean = 0 # среднее значение функции потерь (по эпохе)\n",
    "    lm_count = 0 # текущее количество слагаемых \n",
    "    \n",
    "    train_tqdm = tqdm(train_data, leave=False) # leave=True - оставляет предыдущий прогрессбар на экране\n",
    "    for x_train, y_train in train_tqdm:\n",
    "        predict = model(x_train)    \n",
    "        loss = loss_function(predict, y_train)\n",
    "\n",
    "        optimizer.zero_grad()\n",
    "        loss.backward()\n",
    "        optimizer.step()\n",
    "\n",
    "        lm_count += 1\n",
    "        loss_mean = 1 / lm_count * loss.item() + (1- 1/lm_count)*loss_mean\n",
    "        train_tqdm.set_description(f'Epochs {_e+1}, loss mean = {loss_mean:.3f}')\n",
    "    \n",
    "    # Валидация модели\n",
    "    model.eval()\n",
    "    Q_val = 0\n",
    "    count_val = 0\n",
    "\n",
    "    for x_val, y_val in train_data_val:\n",
    "        with torch.no_grad():\n",
    "            p = model(x_val)\n",
    "            loss = loss_function(p, y_val)\n",
    "            Q_val += loss.item( )\n",
    "            count_val += 1\n",
    "    Q_val /= count_val\n",
    "\n",
    "    loss_lst.append(loss_mean)\n",
    "    loss_lst_val.append(Q_val)\n",
    "\n",
    "    # print(f\" | loss_mean = {loss_mean: .3f}, Q_val={Q_val:.3f}\")"
   ]
  },
  {
   "cell_type": "code",
   "execution_count": 212,
   "id": "58d6a23b",
   "metadata": {},
   "outputs": [
    {
     "name": "stdout",
     "output_type": "stream",
     "text": [
      "0.9642\n"
     ]
    }
   ],
   "source": [
    "model.eval()\n",
    "Q = 0\n",
    "\n",
    "for x_test, y_test in test_data:\n",
    "    with torch.no_grad():\n",
    "        p = model(x_test)\n",
    "        p = torch.argmax(p, dim=1)\n",
    "        Q += torch.sum(p == y_test).item()\n",
    "\n",
    "Q /= len(d_test)\n",
    "print(Q)"
   ]
  },
  {
   "cell_type": "code",
   "execution_count": 211,
   "id": "1859a5ab",
   "metadata": {},
   "outputs": [
    {
     "data": {
      "image/png": "[encoded data removed]",
      "text/plain": [
       "<Figure size 640x480 with 1 Axes>"
      ]
     },
     "metadata": {},
     "output_type": "display_data"
    }
   ],
   "source": [
    "# Вывод графиков\n",
    "plt.plot(loss_lst)\n",
    "plt.plot(loss_lst_val)\n",
    "plt.grid()\n",
    "plt.legend(['train','val'])\n",
    "plt.show()"
   ]
  },
  {
   "cell_type": "markdown",
   "id": "9252934c",
   "metadata": {},
   "source": [
    "## Batch Normalization"
   ]
  },
  {
   "cell_type": "markdown",
   "id": "d89b1674",
   "metadata": {},
   "source": [
    "Нормализация в пределах батчей:\n",
    "\n",
    "$$\\hat \\mu = \\frac{1}{batch} \\cdot  \\sum_{i=1}^{batch} x_i$$\n",
    "$$\\hat \\sigma = \\frac{1}{batch} \\cdot \\sum_{i=1}^{batch} (x_i - \\hat \\mu )^2$$\n",
    "\n",
    "$$\\Longrightarrow \\hat x_i = \\frac{x_i - \\hat \\mu}{\\sqrt{\\hat \\sigma^2 + \\epsilon}}, i = 1,2,... ,batch$$\n",
    "\n",
    "$\\epsilon$ - небольшая положительная добавка, чтобы избежать деления на ноль\n",
    "\n",
    "Значит в пределах батча после нормировки у нас будет нулевое среднее и единичную дисперсия\n",
    "\n",
    "Еще вводятся обучаемые параметры $\\gamma$ (масштаб) и $\\beta$ (сдвиг) для восстановления выразительности сети:\n",
    "\n",
    "$$y_i^{k} = \\gamma^{k} \\cdot \\hat x_i^{k} + \\beta^{k}$$"
   ]
  },
  {
   "cell_type": "markdown",
   "id": "0ce4bb2f",
   "metadata": {},
   "source": []
  },
  {
   "cell_type": "code",
   "execution_count": 213,
   "id": "603b1a35",
   "metadata": {},
   "outputs": [],
   "source": [
    "class DigitNN(nn.Module):\n",
    "    def __init__(self, input_dim, num_hidden, output_dim):\n",
    "        super().__init__()\n",
    "        self.layer1 = nn.Linear(input_dim, num_hidden)\n",
    "        self.layer2 = nn.Linear(num_hidden, output_dim)\n",
    "        self.bn_1 = nn.BatchNorm1d(num_hidden) \n",
    "\n",
    "    def forward(self, x):\n",
    "        x = self.layer1(x)\n",
    "        x = nn.functional.relu(x)\n",
    "        x = self.bn_1(x) \n",
    "        x = self.layer2(x)\n",
    "        return x"
   ]
  },
  {
   "cell_type": "code",
   "execution_count": 214,
   "id": "6cc2a86e",
   "metadata": {},
   "outputs": [],
   "source": [
    "model = DigitNN(28 * 28, 128, 10)"
   ]
  },
  {
   "cell_type": "code",
   "execution_count": 215,
   "id": "22af3c49",
   "metadata": {},
   "outputs": [],
   "source": [
    "optimizer = optim.Adam(params=model.parameters(), lr=0.01) #  weight_decay = 0.001\n",
    "loss_function = nn.CrossEntropyLoss()\n",
    "epochs = 20"
   ]
  },
  {
   "cell_type": "code",
   "execution_count": 216,
   "id": "141c45ec",
   "metadata": {},
   "outputs": [
    {
     "name": "stderr",
     "output_type": "stream",
     "text": [
      "                                                                                  \r"
     ]
    }
   ],
   "source": [
    "epochs = 20\n",
    "best_loss = 1e10 # заведомо высокое значение\n",
    "\n",
    "loss_lst_val = [] # список значений потерь при валидации\n",
    "loss_lst = [] # список значений потерь при обучении\n",
    "\n",
    "for _e in range(epochs):\n",
    "    model.train() # в начале каждой эпохи переводим модель в режим обучения\n",
    "    loss_mean = 0 # среднее значение функции потерь (по эпохе)\n",
    "    lm_count = 0 # текущее количество слагаемых \n",
    "    \n",
    "    train_tqdm = tqdm(train_data, leave=False) # leave=True - оставляет предыдущий прогрессбар на экране\n",
    "    for x_train, y_train in train_tqdm:\n",
    "        predict = model(x_train)    \n",
    "        loss = loss_function(predict, y_train)\n",
    "\n",
    "        optimizer.zero_grad()\n",
    "        loss.backward()\n",
    "        optimizer.step()\n",
    "\n",
    "        lm_count += 1\n",
    "        loss_mean = 1 / lm_count * loss.item() + (1- 1/lm_count)*loss_mean\n",
    "        train_tqdm.set_description(f'Epochs {_e+1}, loss mean = {loss_mean:.3f}')\n",
    "    \n",
    "    # Валидация модели\n",
    "    model.eval()\n",
    "    Q_val = 0\n",
    "    count_val = 0\n",
    "\n",
    "    for x_val, y_val in train_data_val:\n",
    "        with torch.no_grad():\n",
    "            p = model(x_val)\n",
    "            loss = loss_function(p, y_val)\n",
    "            Q_val += loss.item( )\n",
    "            count_val += 1\n",
    "    Q_val /= count_val\n",
    "\n",
    "    loss_lst.append(loss_mean)\n",
    "    loss_lst_val.append(Q_val)\n",
    "\n",
    "    # print(f\" | loss_mean = {loss_mean: .3f}, Q_val={Q_val:.3f}\")"
   ]
  },
  {
   "cell_type": "code",
   "execution_count": 217,
   "id": "8e070046",
   "metadata": {},
   "outputs": [
    {
     "name": "stdout",
     "output_type": "stream",
     "text": [
      "0.9741\n"
     ]
    }
   ],
   "source": [
    "model.eval()\n",
    "Q = 0\n",
    "\n",
    "for x_test, y_test in test_data:\n",
    "    with torch.no_grad():\n",
    "        p = model(x_test)\n",
    "        p = torch.argmax(p, dim=1)\n",
    "        Q += torch.sum(p == y_test).item()\n",
    "\n",
    "Q /= len(d_test)\n",
    "print(Q)"
   ]
  },
  {
   "cell_type": "code",
   "execution_count": 218,
   "id": "20ea920e",
   "metadata": {},
   "outputs": [
    {
     "data": {
      "image/png": "[encoded data removed]",
      "text/plain": [
       "<Figure size 640x480 with 1 Axes>"
      ]
     },
     "metadata": {},
     "output_type": "display_data"
    }
   ],
   "source": [
    "# Вывод графиков\n",
    "plt.plot(loss_lst)\n",
    "plt.plot(loss_lst_val)\n",
    "plt.grid()\n",
    "plt.legend(['train','val'])\n",
    "plt.show()"
   ]
  },
  {
   "cell_type": "markdown",
   "id": "b6289e1e",
   "metadata": {},
   "source": [
    "## Sequential(), ModuleList(), ModuleDict()"
   ]
  },
  {
   "cell_type": "code",
   "execution_count": 223,
   "id": "c199cb34",
   "metadata": {},
   "outputs": [],
   "source": [
    "model = nn.Sequential()\n",
    "model.add_module('layer_1', nn.Linear(28 * 28, 32))\n",
    "model.add_module('relu', nn.ReLU())\n",
    "model.add_module('layer_2', nn.Linear(32,10))"
   ]
  },
  {
   "cell_type": "code",
   "execution_count": 224,
   "id": "25c40a01",
   "metadata": {},
   "outputs": [
    {
     "name": "stdout",
     "output_type": "stream",
     "text": [
      "Sequential(\n",
      "  (layer_1): Linear(in_features=784, out_features=32, bias=True)\n",
      "  (relu): ReLU()\n",
      "  (layer_2): Linear(in_features=32, out_features=10, bias=True)\n",
      ")\n"
     ]
    }
   ],
   "source": [
    "print(model)"
   ]
  },
  {
   "cell_type": "markdown",
   "id": "5bbb8b2b",
   "metadata": {},
   "source": [
    "С помощью класса ModuleList() мы можем генерировать слои и их регистрировать"
   ]
  },
  {
   "cell_type": "code",
   "execution_count": 245,
   "id": "164f75d7",
   "metadata": {},
   "outputs": [],
   "source": [
    "class ModelNN(nn.Module):\n",
    "    def __init__(self, input_dim, output_dim, n_layers=3):\n",
    "        super().__init__()\n",
    "        self.layers = nn.ModuleList()\n",
    "        for n in range(1, n_layers+1):\n",
    "            self.layers.add_module(f'layer_{n}', nn.Linear(input_dim // n, input_dim // (n+1)) )\n",
    "            \n",
    "        self.layer_out = nn.Linear(input_dim // (n_layers+1), output_dim)\n",
    "    \n",
    "    def forward(self, x):\n",
    "        for layer in self.layers:\n",
    "            x = layer(x)\n",
    "            x = nn.functional.tanh(x)\n",
    "        \n",
    "        x = self.layer_out(x)"
   ]
  },
  {
   "cell_type": "code",
   "execution_count": 246,
   "id": "111f30a8",
   "metadata": {},
   "outputs": [
    {
     "name": "stdout",
     "output_type": "stream",
     "text": [
      "ModelNN(\n",
      "  (layers): ModuleList(\n",
      "    (0): Linear(in_features=784, out_features=392, bias=True)\n",
      "    (1): Linear(in_features=392, out_features=261, bias=True)\n",
      "    (2): Linear(in_features=261, out_features=196, bias=True)\n",
      "  )\n",
      "  (layer_out): Linear(in_features=196, out_features=10, bias=True)\n",
      ")\n"
     ]
    }
   ],
   "source": [
    "model = ModelNN(28 * 28, 10)\n",
    "print(model)"
   ]
  },
  {
   "cell_type": "code",
   "execution_count": 248,
   "id": "f4fa11ba",
   "metadata": {},
   "outputs": [
    {
     "data": {
      "text/plain": [
       "Linear(in_features=784, out_features=392, bias=True)"
      ]
     },
     "execution_count": 248,
     "metadata": {},
     "output_type": "execute_result"
    }
   ],
   "source": [
    "model.layers.layer_1"
   ]
  },
  {
   "cell_type": "markdown",
   "id": "a88ccdc5",
   "metadata": {},
   "source": [
    "ModuleDict() регистрирует отдельные слои, но хранит их в виде словаря"
   ]
  },
  {
   "cell_type": "code",
   "execution_count": 249,
   "id": "369af539",
   "metadata": {},
   "outputs": [],
   "source": [
    "class ModelNN(nn.Module):\n",
    "    def __init__(self, input_dim, output_dim, n_layers=3, act_type=None):\n",
    "        super().__init__()\n",
    "        self.layers = nn.ModuleList()\n",
    "        self.act_type = act_type\n",
    "        for n in range(1, n_layers+1):\n",
    "            self.layers.add_module(f'layer_{n}', nn.Linear(input_dim // n, input_dim // (n+1)) )\n",
    "            \n",
    "        self.layer_out = nn.Linear(input_dim // (n_layers+1), output_dim)\n",
    "        self.act_lst = nn.ModuleDict({\n",
    "            'relu': nn.ReLU(),\n",
    "            'lk_relu': nn.LeakyReLU(),\n",
    "        })\n",
    "\n",
    "    def forward(self, x):\n",
    "        for layer in self.layers:\n",
    "            x = layer(x)\n",
    "            if self.act_type and self.act_type in self.act_lst:\n",
    "                x = self.act_lst[self.act_type](x)\n",
    "\n",
    "        x = self.layer_out(x)"
   ]
  },
  {
   "cell_type": "code",
   "execution_count": 250,
   "id": "c1ca1700",
   "metadata": {},
   "outputs": [
    {
     "name": "stdout",
     "output_type": "stream",
     "text": [
      "ModelNN(\n",
      "  (layers): ModuleList(\n",
      "    (0): Linear(in_features=784, out_features=392, bias=True)\n",
      "    (1): Linear(in_features=392, out_features=261, bias=True)\n",
      "    (2): Linear(in_features=261, out_features=196, bias=True)\n",
      "  )\n",
      "  (layer_out): Linear(in_features=196, out_features=10, bias=True)\n",
      "  (act_lst): ModuleDict(\n",
      "    (relu): ReLU()\n",
      "    (lk_relu): LeakyReLU(negative_slope=0.01)\n",
      "  )\n",
      ")\n"
     ]
    }
   ],
   "source": [
    "model = ModelNN(28 * 28, 10, act_type='relu')\n",
    "print(model)"
   ]
  }
 ],
 "metadata": {
  "kernelspec": {
   "display_name": "mmm-tools-9U9JP_nD-py3.11",
   "language": "python",
   "name": "python3"
  },
  "language_info": {
   "codemirror_mode": {
    "name": "ipython",
    "version": 3
   },
   "file_extension": ".py",
   "mimetype": "text/x-python",
   "name": "python",
   "nbconvert_exporter": "python",
   "pygments_lexer": "ipython3",
   "version": "3.11.9"
  }
 },
 "nbformat": 4,
 "nbformat_minor": 5
}
